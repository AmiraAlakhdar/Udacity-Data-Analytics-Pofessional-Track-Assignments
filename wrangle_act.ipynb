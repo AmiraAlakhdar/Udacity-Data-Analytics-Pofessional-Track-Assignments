{
 "cells": [
  {
   "cell_type": "markdown",
   "metadata": {},
   "source": [
    "# Data Rangling project"
   ]
  },
  {
   "cell_type": "markdown",
   "metadata": {},
   "source": [
    "## Step 1: Importing tools and libraries"
   ]
  },
  {
   "cell_type": "code",
   "execution_count": 1,
   "metadata": {},
   "outputs": [],
   "source": [
    "% matplotlib inline\n",
    "import pandas as pd\n",
    "import numpy as np\n",
    "import matplotlib.pyplot as plt\n",
    "import requests\n",
    "import tweepy\n",
    "import json\n"
   ]
  },
  {
   "cell_type": "markdown",
   "metadata": {},
   "source": [
    "## Step 2: Gathering data"
   ]
  },
  {
   "cell_type": "markdown",
   "metadata": {},
   "source": [
    "1- get all the files ready for work"
   ]
  },
  {
   "cell_type": "code",
   "execution_count": 2,
   "metadata": {},
   "outputs": [],
   "source": [
    "#save the image_prediction.tsv file\n",
    "url ='https://d17h27t6h515a5.cloudfront.net/topher/2017/August/599fd2ad_image-predictions/image-predictions.tsv'\n",
    "image_prediction = requests.get(url)\n",
    "with open(url.split('/')[-1], mode='wb') as file:\n",
    "    file.write(image_prediction.content)\n",
    "    \n",
    "url_2 ='https://video.udacity-data.com/topher/2018/November/5be5fb7d_tweet-json/tweet-json.txt'\n",
    "f = requests.get(url_2)\n",
    "with open(url_2.split('/')[-1], mode='wb') as file:\n",
    "    file.write(f.content)\n",
    "\n",
    "    \n",
    "# I also uploaded the twitter-archive-enhanced.csv file"
   ]
  },
  {
   "cell_type": "markdown",
   "metadata": {},
   "source": [
    "2- covert the files to pandas dataframes"
   ]
  },
  {
   "cell_type": "code",
   "execution_count": 3,
   "metadata": {},
   "outputs": [],
   "source": [
    "df_original = pd.read_csv('twitter-archive-enhanced.csv')\n",
    "\n",
    "df_image_original = pd.read_csv('image-predictions.tsv', sep = '\\t')\n",
    "\n",
    "#with open('tweet-json.txt') as json_file:\n",
    "#    data = json.load(json_file)\n",
    "    \n",
    "tweets = []\n",
    "df_list = []\n",
    "for line in open('tweet-json.txt', 'r'):\n",
    "    tweets.append(json.loads(line))\n",
    "for i in tweets:\n",
    "    favorite_count = i['favorite_count']\n",
    "    i_d = i['id']\n",
    "    retweet_count =i['retweet_count']\n",
    "    \n",
    "    \n",
    "    df_list.append({'tweet_id': i_d, 'favorite_count': favorite_count, 'retweet_count': retweet_count})    \n",
    "\n",
    "\n",
    "df_third_oringinal = pd.DataFrame(df_list) \n",
    "\n"
   ]
  },
  {
   "cell_type": "markdown",
   "metadata": {},
   "source": [
    "### Copying the data frames:\n",
    "    "
   ]
  },
  {
   "cell_type": "code",
   "execution_count": 4,
   "metadata": {},
   "outputs": [],
   "source": [
    "df = df_original.copy()\n",
    "df_image = df_image_original.copy()\n",
    "df_third = df_third_oringinal.copy()"
   ]
  },
  {
   "cell_type": "markdown",
   "metadata": {},
   "source": [
    "## Step 3: Assessing data"
   ]
  },
  {
   "cell_type": "markdown",
   "metadata": {},
   "source": [
    "Find at least eight (8) quality issues and two (2) tidiness issues."
   ]
  },
  {
   "cell_type": "markdown",
   "metadata": {},
   "source": [
    "### Assess df dataframe"
   ]
  },
  {
   "cell_type": "code",
   "execution_count": 5,
   "metadata": {
    "scrolled": true
   },
   "outputs": [
    {
     "name": "stdout",
     "output_type": "stream",
     "text": [
      "<class 'pandas.core.frame.DataFrame'>\n",
      "RangeIndex: 2356 entries, 0 to 2355\n",
      "Data columns (total 17 columns):\n",
      "tweet_id                      2356 non-null int64\n",
      "in_reply_to_status_id         78 non-null float64\n",
      "in_reply_to_user_id           78 non-null float64\n",
      "timestamp                     2356 non-null object\n",
      "source                        2356 non-null object\n",
      "text                          2356 non-null object\n",
      "retweeted_status_id           181 non-null float64\n",
      "retweeted_status_user_id      181 non-null float64\n",
      "retweeted_status_timestamp    181 non-null object\n",
      "expanded_urls                 2297 non-null object\n",
      "rating_numerator              2356 non-null int64\n",
      "rating_denominator            2356 non-null int64\n",
      "name                          2356 non-null object\n",
      "doggo                         2356 non-null object\n",
      "floofer                       2356 non-null object\n",
      "pupper                        2356 non-null object\n",
      "puppo                         2356 non-null object\n",
      "dtypes: float64(4), int64(3), object(10)\n",
      "memory usage: 313.0+ KB\n"
     ]
    }
   ],
   "source": [
    "df.info()"
   ]
  },
  {
   "cell_type": "markdown",
   "metadata": {},
   "source": [
    "Quality problems found:\n",
    "- Many names are missing and represented as'None', the same issue is present in other columns as well, hence, None values should be converted to NaN (Done)\n",
    "- Rating_denominator (always 10): redundant column (unnecessary) (Done)\n",
    "- Some columns have informations that are not valuable for us like:\n",
    "retweeted_status_id / retweeted_status_user_id / retweeted_status_timestamp / in_reply_to_status_id / in_reply_to_user_id (Done)\n",
    "- some invalid names like 'an', 'one', 'not', 'this', 'a','space', 'The' and 'light. (Done)\n",
    "- Time stamp should be converted to datatime. (Done)\n",
    "- tweet_id should be string type (Done)\n",
    "- rating_numerator below 10 are invalid.\n",
    "- outliers in the rating_numerator column.\n",
    "\n",
    "Tidiness problems found:\n",
    "- This table should be joined with df_third table Keeping only the Tweets that have images in the image dataframe (Done).\n",
    "- doggo, floofer, pupper, puppo columns can be combined into one column (Done).\n",
    "- Duplicate column: expanded_urls can be extracted from tweet_id easily (Done)\n",
    "- text column contains urls which should be extracted (Done).\n"
   ]
  },
  {
   "cell_type": "markdown",
   "metadata": {},
   "source": [
    "### Assessing image dataframe"
   ]
  },
  {
   "cell_type": "code",
   "execution_count": 6,
   "metadata": {},
   "outputs": [
    {
     "name": "stdout",
     "output_type": "stream",
     "text": [
      "<class 'pandas.core.frame.DataFrame'>\n",
      "RangeIndex: 2075 entries, 0 to 2074\n",
      "Data columns (total 12 columns):\n",
      "tweet_id    2075 non-null int64\n",
      "jpg_url     2075 non-null object\n",
      "img_num     2075 non-null int64\n",
      "p1          2075 non-null object\n",
      "p1_conf     2075 non-null float64\n",
      "p1_dog      2075 non-null bool\n",
      "p2          2075 non-null object\n",
      "p2_conf     2075 non-null float64\n",
      "p2_dog      2075 non-null bool\n",
      "p3          2075 non-null object\n",
      "p3_conf     2075 non-null float64\n",
      "p3_dog      2075 non-null bool\n",
      "dtypes: bool(3), float64(3), int64(2), object(4)\n",
      "memory usage: 152.1+ KB\n"
     ]
    }
   ],
   "source": [
    "df_image.info()"
   ]
  },
  {
   "cell_type": "markdown",
   "metadata": {},
   "source": [
    "Quality Issues:\n",
    "- tweet_id column shoud be string value.(Done)\n",
    "\n",
    "\n",
    "Tideness Issues:\n",
    "- Not found"
   ]
  },
  {
   "cell_type": "markdown",
   "metadata": {},
   "source": [
    "### Assessing df_third dataframe"
   ]
  },
  {
   "cell_type": "code",
   "execution_count": 7,
   "metadata": {},
   "outputs": [
    {
     "name": "stdout",
     "output_type": "stream",
     "text": [
      "<class 'pandas.core.frame.DataFrame'>\n",
      "RangeIndex: 2354 entries, 0 to 2353\n",
      "Data columns (total 3 columns):\n",
      "favorite_count    2354 non-null int64\n",
      "retweet_count     2354 non-null int64\n",
      "tweet_id          2354 non-null int64\n",
      "dtypes: int64(3)\n",
      "memory usage: 55.2 KB\n"
     ]
    }
   ],
   "source": [
    "df_third.info()"
   ]
  },
  {
   "cell_type": "markdown",
   "metadata": {},
   "source": [
    "Quality problems:\n",
    "- favorite_count, retweet_count should be integer type values (Done)\n",
    "- tweet_id column shoud be string value (Done)\n",
    "\n",
    "Tideness Problems:\n",
    "- This table should be joined with df table Keeping only the Tweets that have images in the image dataframe (Done).\n",
    "\n"
   ]
  },
  {
   "cell_type": "markdown",
   "metadata": {},
   "source": [
    "## Step 4: Cleaning data"
   ]
  },
  {
   "cell_type": "markdown",
   "metadata": {},
   "source": [
    "#### Define (Missing Values Issue)\n",
    "- Null values are expressed as 'None'\n",
    "\n",
    "#### Code:\n"
   ]
  },
  {
   "cell_type": "code",
   "execution_count": 8,
   "metadata": {},
   "outputs": [],
   "source": [
    "df.replace(to_replace=['None'], value=np.nan, inplace=True)"
   ]
  },
  {
   "cell_type": "markdown",
   "metadata": {},
   "source": [
    "#### Test:\n"
   ]
  },
  {
   "cell_type": "code",
   "execution_count": 9,
   "metadata": {},
   "outputs": [
    {
     "name": "stdout",
     "output_type": "stream",
     "text": [
      "<class 'pandas.core.frame.DataFrame'>\n",
      "RangeIndex: 2356 entries, 0 to 2355\n",
      "Data columns (total 17 columns):\n",
      "tweet_id                      2356 non-null int64\n",
      "in_reply_to_status_id         78 non-null float64\n",
      "in_reply_to_user_id           78 non-null float64\n",
      "timestamp                     2356 non-null object\n",
      "source                        2356 non-null object\n",
      "text                          2356 non-null object\n",
      "retweeted_status_id           181 non-null float64\n",
      "retweeted_status_user_id      181 non-null float64\n",
      "retweeted_status_timestamp    181 non-null object\n",
      "expanded_urls                 2297 non-null object\n",
      "rating_numerator              2356 non-null int64\n",
      "rating_denominator            2356 non-null int64\n",
      "name                          1611 non-null object\n",
      "doggo                         97 non-null object\n",
      "floofer                       10 non-null object\n",
      "pupper                        257 non-null object\n",
      "puppo                         30 non-null object\n",
      "dtypes: float64(4), int64(3), object(10)\n",
      "memory usage: 313.0+ KB\n"
     ]
    },
    {
     "data": {
      "text/plain": [
       "a            55\n",
       "Charlie      12\n",
       "Cooper       11\n",
       "Lucy         11\n",
       "Oliver       11\n",
       "Tucker       10\n",
       "Penny        10\n",
       "Lola         10\n",
       "Bo            9\n",
       "Winston       9\n",
       "the           8\n",
       "Sadie         8\n",
       "Buddy         7\n",
       "an            7\n",
       "Toby          7\n",
       "Bailey        7\n",
       "Daisy         7\n",
       "Jax           6\n",
       "Oscar         6\n",
       "Milo          6\n",
       "Rusty         6\n",
       "Koda          6\n",
       "Bella         6\n",
       "Dave          6\n",
       "Leo           6\n",
       "Jack          6\n",
       "Scout         6\n",
       "Stanley       6\n",
       "Chester       5\n",
       "Bentley       5\n",
       "             ..\n",
       "Philippe      1\n",
       "Sailor        1\n",
       "Zooey         1\n",
       "Mosby         1\n",
       "Tebow         1\n",
       "Ebby          1\n",
       "Hubertson     1\n",
       "Tobi          1\n",
       "Thor          1\n",
       "Tupawc        1\n",
       "Dixie         1\n",
       "Carter        1\n",
       "Bruno         1\n",
       "Chloe         1\n",
       "Rudy          1\n",
       "Rover         1\n",
       "Poppy         1\n",
       "Maisey        1\n",
       "Stella        1\n",
       "Alexander     1\n",
       "Filup         1\n",
       "Gunner        1\n",
       "Swagger       1\n",
       "Scruffers     1\n",
       "Harlso        1\n",
       "Rueben        1\n",
       "Kingsley      1\n",
       "Marvin        1\n",
       "Benny         1\n",
       "Travis        1\n",
       "Name: name, Length: 956, dtype: int64"
      ]
     },
     "execution_count": 9,
     "metadata": {},
     "output_type": "execute_result"
    }
   ],
   "source": [
    "df.info()\n",
    "df.name.value_counts()"
   ]
  },
  {
   "cell_type": "markdown",
   "metadata": {},
   "source": [
    "#### Define (First Tidiness issue):\n",
    "- df table should be joined with df table Keeping only the Tweets that have images in the image dataframe.\n",
    "\n",
    "#### Code:\n"
   ]
  },
  {
   "cell_type": "code",
   "execution_count": 10,
   "metadata": {},
   "outputs": [],
   "source": [
    "#merging df and df_third into one table\n",
    "merged =  pd.merge(df, df_third, on='tweet_id', how='left' )\n",
    "\n",
    "# Keeping only the Tweets that have images in the image dataframe\n",
    "tweet_ids = list(df_image.tweet_id)\n",
    "merged = merged.where(merged.tweet_id.isin(tweet_ids) == True)\n",
    "merged = merged[merged['tweet_id'].notna()].reset_index()"
   ]
  },
  {
   "cell_type": "markdown",
   "metadata": {},
   "source": [
    "#### Test:"
   ]
  },
  {
   "cell_type": "code",
   "execution_count": 11,
   "metadata": {},
   "outputs": [
    {
     "name": "stdout",
     "output_type": "stream",
     "text": [
      "<class 'pandas.core.frame.DataFrame'>\n",
      "RangeIndex: 2075 entries, 0 to 2074\n",
      "Data columns (total 20 columns):\n",
      "index                         2075 non-null int64\n",
      "tweet_id                      2075 non-null float64\n",
      "in_reply_to_status_id         23 non-null float64\n",
      "in_reply_to_user_id           23 non-null float64\n",
      "timestamp                     2075 non-null object\n",
      "source                        2075 non-null object\n",
      "text                          2075 non-null object\n",
      "retweeted_status_id           81 non-null float64\n",
      "retweeted_status_user_id      81 non-null float64\n",
      "retweeted_status_timestamp    81 non-null object\n",
      "expanded_urls                 2075 non-null object\n",
      "rating_numerator              2075 non-null float64\n",
      "rating_denominator            2075 non-null float64\n",
      "name                          1497 non-null object\n",
      "doggo                         80 non-null object\n",
      "floofer                       8 non-null object\n",
      "pupper                        222 non-null object\n",
      "puppo                         24 non-null object\n",
      "favorite_count                2073 non-null float64\n",
      "retweet_count                 2073 non-null float64\n",
      "dtypes: float64(9), int64(1), object(10)\n",
      "memory usage: 324.3+ KB\n"
     ]
    },
    {
     "data": {
      "text/html": [
       "<div>\n",
       "<style scoped>\n",
       "    .dataframe tbody tr th:only-of-type {\n",
       "        vertical-align: middle;\n",
       "    }\n",
       "\n",
       "    .dataframe tbody tr th {\n",
       "        vertical-align: top;\n",
       "    }\n",
       "\n",
       "    .dataframe thead th {\n",
       "        text-align: right;\n",
       "    }\n",
       "</style>\n",
       "<table border=\"1\" class=\"dataframe\">\n",
       "  <thead>\n",
       "    <tr style=\"text-align: right;\">\n",
       "      <th></th>\n",
       "      <th>index</th>\n",
       "      <th>tweet_id</th>\n",
       "      <th>in_reply_to_status_id</th>\n",
       "      <th>in_reply_to_user_id</th>\n",
       "      <th>timestamp</th>\n",
       "      <th>source</th>\n",
       "      <th>text</th>\n",
       "      <th>retweeted_status_id</th>\n",
       "      <th>retweeted_status_user_id</th>\n",
       "      <th>retweeted_status_timestamp</th>\n",
       "      <th>expanded_urls</th>\n",
       "      <th>rating_numerator</th>\n",
       "      <th>rating_denominator</th>\n",
       "      <th>name</th>\n",
       "      <th>doggo</th>\n",
       "      <th>floofer</th>\n",
       "      <th>pupper</th>\n",
       "      <th>puppo</th>\n",
       "      <th>favorite_count</th>\n",
       "      <th>retweet_count</th>\n",
       "    </tr>\n",
       "  </thead>\n",
       "  <tbody>\n",
       "    <tr>\n",
       "      <th>0</th>\n",
       "      <td>0</td>\n",
       "      <td>8.924206e+17</td>\n",
       "      <td>NaN</td>\n",
       "      <td>NaN</td>\n",
       "      <td>2017-08-01 16:23:56 +0000</td>\n",
       "      <td>&lt;a href=\"http://twitter.com/download/iphone\" r...</td>\n",
       "      <td>This is Phineas. He's a mystical boy. Only eve...</td>\n",
       "      <td>NaN</td>\n",
       "      <td>NaN</td>\n",
       "      <td>NaN</td>\n",
       "      <td>https://twitter.com/dog_rates/status/892420643...</td>\n",
       "      <td>13.0</td>\n",
       "      <td>10.0</td>\n",
       "      <td>Phineas</td>\n",
       "      <td>NaN</td>\n",
       "      <td>NaN</td>\n",
       "      <td>NaN</td>\n",
       "      <td>NaN</td>\n",
       "      <td>39467.0</td>\n",
       "      <td>8853.0</td>\n",
       "    </tr>\n",
       "    <tr>\n",
       "      <th>1</th>\n",
       "      <td>1</td>\n",
       "      <td>8.921774e+17</td>\n",
       "      <td>NaN</td>\n",
       "      <td>NaN</td>\n",
       "      <td>2017-08-01 00:17:27 +0000</td>\n",
       "      <td>&lt;a href=\"http://twitter.com/download/iphone\" r...</td>\n",
       "      <td>This is Tilly. She's just checking pup on you....</td>\n",
       "      <td>NaN</td>\n",
       "      <td>NaN</td>\n",
       "      <td>NaN</td>\n",
       "      <td>https://twitter.com/dog_rates/status/892177421...</td>\n",
       "      <td>13.0</td>\n",
       "      <td>10.0</td>\n",
       "      <td>Tilly</td>\n",
       "      <td>NaN</td>\n",
       "      <td>NaN</td>\n",
       "      <td>NaN</td>\n",
       "      <td>NaN</td>\n",
       "      <td>33819.0</td>\n",
       "      <td>6514.0</td>\n",
       "    </tr>\n",
       "    <tr>\n",
       "      <th>2</th>\n",
       "      <td>2</td>\n",
       "      <td>8.918152e+17</td>\n",
       "      <td>NaN</td>\n",
       "      <td>NaN</td>\n",
       "      <td>2017-07-31 00:18:03 +0000</td>\n",
       "      <td>&lt;a href=\"http://twitter.com/download/iphone\" r...</td>\n",
       "      <td>This is Archie. He is a rare Norwegian Pouncin...</td>\n",
       "      <td>NaN</td>\n",
       "      <td>NaN</td>\n",
       "      <td>NaN</td>\n",
       "      <td>https://twitter.com/dog_rates/status/891815181...</td>\n",
       "      <td>12.0</td>\n",
       "      <td>10.0</td>\n",
       "      <td>Archie</td>\n",
       "      <td>NaN</td>\n",
       "      <td>NaN</td>\n",
       "      <td>NaN</td>\n",
       "      <td>NaN</td>\n",
       "      <td>25461.0</td>\n",
       "      <td>4328.0</td>\n",
       "    </tr>\n",
       "    <tr>\n",
       "      <th>3</th>\n",
       "      <td>3</td>\n",
       "      <td>8.916896e+17</td>\n",
       "      <td>NaN</td>\n",
       "      <td>NaN</td>\n",
       "      <td>2017-07-30 15:58:51 +0000</td>\n",
       "      <td>&lt;a href=\"http://twitter.com/download/iphone\" r...</td>\n",
       "      <td>This is Darla. She commenced a snooze mid meal...</td>\n",
       "      <td>NaN</td>\n",
       "      <td>NaN</td>\n",
       "      <td>NaN</td>\n",
       "      <td>https://twitter.com/dog_rates/status/891689557...</td>\n",
       "      <td>13.0</td>\n",
       "      <td>10.0</td>\n",
       "      <td>Darla</td>\n",
       "      <td>NaN</td>\n",
       "      <td>NaN</td>\n",
       "      <td>NaN</td>\n",
       "      <td>NaN</td>\n",
       "      <td>42908.0</td>\n",
       "      <td>8964.0</td>\n",
       "    </tr>\n",
       "    <tr>\n",
       "      <th>4</th>\n",
       "      <td>4</td>\n",
       "      <td>8.913276e+17</td>\n",
       "      <td>NaN</td>\n",
       "      <td>NaN</td>\n",
       "      <td>2017-07-29 16:00:24 +0000</td>\n",
       "      <td>&lt;a href=\"http://twitter.com/download/iphone\" r...</td>\n",
       "      <td>This is Franklin. He would like you to stop ca...</td>\n",
       "      <td>NaN</td>\n",
       "      <td>NaN</td>\n",
       "      <td>NaN</td>\n",
       "      <td>https://twitter.com/dog_rates/status/891327558...</td>\n",
       "      <td>12.0</td>\n",
       "      <td>10.0</td>\n",
       "      <td>Franklin</td>\n",
       "      <td>NaN</td>\n",
       "      <td>NaN</td>\n",
       "      <td>NaN</td>\n",
       "      <td>NaN</td>\n",
       "      <td>41048.0</td>\n",
       "      <td>9774.0</td>\n",
       "    </tr>\n",
       "  </tbody>\n",
       "</table>\n",
       "</div>"
      ],
      "text/plain": [
       "   index      tweet_id  in_reply_to_status_id  in_reply_to_user_id  \\\n",
       "0      0  8.924206e+17                    NaN                  NaN   \n",
       "1      1  8.921774e+17                    NaN                  NaN   \n",
       "2      2  8.918152e+17                    NaN                  NaN   \n",
       "3      3  8.916896e+17                    NaN                  NaN   \n",
       "4      4  8.913276e+17                    NaN                  NaN   \n",
       "\n",
       "                   timestamp  \\\n",
       "0  2017-08-01 16:23:56 +0000   \n",
       "1  2017-08-01 00:17:27 +0000   \n",
       "2  2017-07-31 00:18:03 +0000   \n",
       "3  2017-07-30 15:58:51 +0000   \n",
       "4  2017-07-29 16:00:24 +0000   \n",
       "\n",
       "                                              source  \\\n",
       "0  <a href=\"http://twitter.com/download/iphone\" r...   \n",
       "1  <a href=\"http://twitter.com/download/iphone\" r...   \n",
       "2  <a href=\"http://twitter.com/download/iphone\" r...   \n",
       "3  <a href=\"http://twitter.com/download/iphone\" r...   \n",
       "4  <a href=\"http://twitter.com/download/iphone\" r...   \n",
       "\n",
       "                                                text  retweeted_status_id  \\\n",
       "0  This is Phineas. He's a mystical boy. Only eve...                  NaN   \n",
       "1  This is Tilly. She's just checking pup on you....                  NaN   \n",
       "2  This is Archie. He is a rare Norwegian Pouncin...                  NaN   \n",
       "3  This is Darla. She commenced a snooze mid meal...                  NaN   \n",
       "4  This is Franklin. He would like you to stop ca...                  NaN   \n",
       "\n",
       "   retweeted_status_user_id retweeted_status_timestamp  \\\n",
       "0                       NaN                        NaN   \n",
       "1                       NaN                        NaN   \n",
       "2                       NaN                        NaN   \n",
       "3                       NaN                        NaN   \n",
       "4                       NaN                        NaN   \n",
       "\n",
       "                                       expanded_urls  rating_numerator  \\\n",
       "0  https://twitter.com/dog_rates/status/892420643...              13.0   \n",
       "1  https://twitter.com/dog_rates/status/892177421...              13.0   \n",
       "2  https://twitter.com/dog_rates/status/891815181...              12.0   \n",
       "3  https://twitter.com/dog_rates/status/891689557...              13.0   \n",
       "4  https://twitter.com/dog_rates/status/891327558...              12.0   \n",
       "\n",
       "   rating_denominator      name doggo floofer pupper puppo  favorite_count  \\\n",
       "0                10.0   Phineas   NaN     NaN    NaN   NaN         39467.0   \n",
       "1                10.0     Tilly   NaN     NaN    NaN   NaN         33819.0   \n",
       "2                10.0    Archie   NaN     NaN    NaN   NaN         25461.0   \n",
       "3                10.0     Darla   NaN     NaN    NaN   NaN         42908.0   \n",
       "4                10.0  Franklin   NaN     NaN    NaN   NaN         41048.0   \n",
       "\n",
       "   retweet_count  \n",
       "0         8853.0  \n",
       "1         6514.0  \n",
       "2         4328.0  \n",
       "3         8964.0  \n",
       "4         9774.0  "
      ]
     },
     "execution_count": 11,
     "metadata": {},
     "output_type": "execute_result"
    }
   ],
   "source": [
    "merged.info()\n",
    "merged.head()"
   ]
  },
  {
   "cell_type": "markdown",
   "metadata": {},
   "source": [
    "### Define (second tidiness issue):\n",
    "- doggo, floofer, pupper, puppo columns can be combined into one column.\n",
    "\n",
    "### Code:\n"
   ]
  },
  {
   "cell_type": "code",
   "execution_count": 12,
   "metadata": {},
   "outputs": [
    {
     "data": {
      "text/html": [
       "<div>\n",
       "<style scoped>\n",
       "    .dataframe tbody tr th:only-of-type {\n",
       "        vertical-align: middle;\n",
       "    }\n",
       "\n",
       "    .dataframe tbody tr th {\n",
       "        vertical-align: top;\n",
       "    }\n",
       "\n",
       "    .dataframe thead th {\n",
       "        text-align: right;\n",
       "    }\n",
       "</style>\n",
       "<table border=\"1\" class=\"dataframe\">\n",
       "  <thead>\n",
       "    <tr style=\"text-align: right;\">\n",
       "      <th></th>\n",
       "      <th>index</th>\n",
       "      <th>tweet_id</th>\n",
       "      <th>in_reply_to_status_id</th>\n",
       "      <th>in_reply_to_user_id</th>\n",
       "      <th>timestamp</th>\n",
       "      <th>source</th>\n",
       "      <th>text</th>\n",
       "      <th>retweeted_status_id</th>\n",
       "      <th>retweeted_status_user_id</th>\n",
       "      <th>retweeted_status_timestamp</th>\n",
       "      <th>...</th>\n",
       "      <th>rating_numerator</th>\n",
       "      <th>rating_denominator</th>\n",
       "      <th>name</th>\n",
       "      <th>doggo</th>\n",
       "      <th>floofer</th>\n",
       "      <th>pupper</th>\n",
       "      <th>puppo</th>\n",
       "      <th>favorite_count</th>\n",
       "      <th>retweet_count</th>\n",
       "      <th>stage</th>\n",
       "    </tr>\n",
       "  </thead>\n",
       "  <tbody>\n",
       "    <tr>\n",
       "      <th>0</th>\n",
       "      <td>0</td>\n",
       "      <td>8.924206e+17</td>\n",
       "      <td>NaN</td>\n",
       "      <td>NaN</td>\n",
       "      <td>2017-08-01 16:23:56 +0000</td>\n",
       "      <td>&lt;a href=\"http://twitter.com/download/iphone\" r...</td>\n",
       "      <td>This is Phineas. He's a mystical boy. Only eve...</td>\n",
       "      <td>NaN</td>\n",
       "      <td>NaN</td>\n",
       "      <td>NaN</td>\n",
       "      <td>...</td>\n",
       "      <td>13.0</td>\n",
       "      <td>10.0</td>\n",
       "      <td>Phineas</td>\n",
       "      <td></td>\n",
       "      <td></td>\n",
       "      <td></td>\n",
       "      <td></td>\n",
       "      <td>39467.0</td>\n",
       "      <td>8853.0</td>\n",
       "      <td>NaN</td>\n",
       "    </tr>\n",
       "    <tr>\n",
       "      <th>1</th>\n",
       "      <td>1</td>\n",
       "      <td>8.921774e+17</td>\n",
       "      <td>NaN</td>\n",
       "      <td>NaN</td>\n",
       "      <td>2017-08-01 00:17:27 +0000</td>\n",
       "      <td>&lt;a href=\"http://twitter.com/download/iphone\" r...</td>\n",
       "      <td>This is Tilly. She's just checking pup on you....</td>\n",
       "      <td>NaN</td>\n",
       "      <td>NaN</td>\n",
       "      <td>NaN</td>\n",
       "      <td>...</td>\n",
       "      <td>13.0</td>\n",
       "      <td>10.0</td>\n",
       "      <td>Tilly</td>\n",
       "      <td></td>\n",
       "      <td></td>\n",
       "      <td></td>\n",
       "      <td></td>\n",
       "      <td>33819.0</td>\n",
       "      <td>6514.0</td>\n",
       "      <td>NaN</td>\n",
       "    </tr>\n",
       "    <tr>\n",
       "      <th>2</th>\n",
       "      <td>2</td>\n",
       "      <td>8.918152e+17</td>\n",
       "      <td>NaN</td>\n",
       "      <td>NaN</td>\n",
       "      <td>2017-07-31 00:18:03 +0000</td>\n",
       "      <td>&lt;a href=\"http://twitter.com/download/iphone\" r...</td>\n",
       "      <td>This is Archie. He is a rare Norwegian Pouncin...</td>\n",
       "      <td>NaN</td>\n",
       "      <td>NaN</td>\n",
       "      <td>NaN</td>\n",
       "      <td>...</td>\n",
       "      <td>12.0</td>\n",
       "      <td>10.0</td>\n",
       "      <td>Archie</td>\n",
       "      <td></td>\n",
       "      <td></td>\n",
       "      <td></td>\n",
       "      <td></td>\n",
       "      <td>25461.0</td>\n",
       "      <td>4328.0</td>\n",
       "      <td>NaN</td>\n",
       "    </tr>\n",
       "    <tr>\n",
       "      <th>3</th>\n",
       "      <td>3</td>\n",
       "      <td>8.916896e+17</td>\n",
       "      <td>NaN</td>\n",
       "      <td>NaN</td>\n",
       "      <td>2017-07-30 15:58:51 +0000</td>\n",
       "      <td>&lt;a href=\"http://twitter.com/download/iphone\" r...</td>\n",
       "      <td>This is Darla. She commenced a snooze mid meal...</td>\n",
       "      <td>NaN</td>\n",
       "      <td>NaN</td>\n",
       "      <td>NaN</td>\n",
       "      <td>...</td>\n",
       "      <td>13.0</td>\n",
       "      <td>10.0</td>\n",
       "      <td>Darla</td>\n",
       "      <td></td>\n",
       "      <td></td>\n",
       "      <td></td>\n",
       "      <td></td>\n",
       "      <td>42908.0</td>\n",
       "      <td>8964.0</td>\n",
       "      <td>NaN</td>\n",
       "    </tr>\n",
       "    <tr>\n",
       "      <th>4</th>\n",
       "      <td>4</td>\n",
       "      <td>8.913276e+17</td>\n",
       "      <td>NaN</td>\n",
       "      <td>NaN</td>\n",
       "      <td>2017-07-29 16:00:24 +0000</td>\n",
       "      <td>&lt;a href=\"http://twitter.com/download/iphone\" r...</td>\n",
       "      <td>This is Franklin. He would like you to stop ca...</td>\n",
       "      <td>NaN</td>\n",
       "      <td>NaN</td>\n",
       "      <td>NaN</td>\n",
       "      <td>...</td>\n",
       "      <td>12.0</td>\n",
       "      <td>10.0</td>\n",
       "      <td>Franklin</td>\n",
       "      <td></td>\n",
       "      <td></td>\n",
       "      <td></td>\n",
       "      <td></td>\n",
       "      <td>41048.0</td>\n",
       "      <td>9774.0</td>\n",
       "      <td>NaN</td>\n",
       "    </tr>\n",
       "    <tr>\n",
       "      <th>5</th>\n",
       "      <td>5</td>\n",
       "      <td>8.910880e+17</td>\n",
       "      <td>NaN</td>\n",
       "      <td>NaN</td>\n",
       "      <td>2017-07-29 00:08:17 +0000</td>\n",
       "      <td>&lt;a href=\"http://twitter.com/download/iphone\" r...</td>\n",
       "      <td>Here we have a majestic great white breaching ...</td>\n",
       "      <td>NaN</td>\n",
       "      <td>NaN</td>\n",
       "      <td>NaN</td>\n",
       "      <td>...</td>\n",
       "      <td>13.0</td>\n",
       "      <td>10.0</td>\n",
       "      <td>NaN</td>\n",
       "      <td></td>\n",
       "      <td></td>\n",
       "      <td></td>\n",
       "      <td></td>\n",
       "      <td>20562.0</td>\n",
       "      <td>3261.0</td>\n",
       "      <td>NaN</td>\n",
       "    </tr>\n",
       "    <tr>\n",
       "      <th>6</th>\n",
       "      <td>6</td>\n",
       "      <td>8.909719e+17</td>\n",
       "      <td>NaN</td>\n",
       "      <td>NaN</td>\n",
       "      <td>2017-07-28 16:27:12 +0000</td>\n",
       "      <td>&lt;a href=\"http://twitter.com/download/iphone\" r...</td>\n",
       "      <td>Meet Jax. He enjoys ice cream so much he gets ...</td>\n",
       "      <td>NaN</td>\n",
       "      <td>NaN</td>\n",
       "      <td>NaN</td>\n",
       "      <td>...</td>\n",
       "      <td>13.0</td>\n",
       "      <td>10.0</td>\n",
       "      <td>Jax</td>\n",
       "      <td></td>\n",
       "      <td></td>\n",
       "      <td></td>\n",
       "      <td></td>\n",
       "      <td>12041.0</td>\n",
       "      <td>2158.0</td>\n",
       "      <td>NaN</td>\n",
       "    </tr>\n",
       "    <tr>\n",
       "      <th>7</th>\n",
       "      <td>7</td>\n",
       "      <td>8.907292e+17</td>\n",
       "      <td>NaN</td>\n",
       "      <td>NaN</td>\n",
       "      <td>2017-07-28 00:22:40 +0000</td>\n",
       "      <td>&lt;a href=\"http://twitter.com/download/iphone\" r...</td>\n",
       "      <td>When you watch your owner call another dog a g...</td>\n",
       "      <td>NaN</td>\n",
       "      <td>NaN</td>\n",
       "      <td>NaN</td>\n",
       "      <td>...</td>\n",
       "      <td>13.0</td>\n",
       "      <td>10.0</td>\n",
       "      <td>NaN</td>\n",
       "      <td></td>\n",
       "      <td></td>\n",
       "      <td></td>\n",
       "      <td></td>\n",
       "      <td>56848.0</td>\n",
       "      <td>16716.0</td>\n",
       "      <td>NaN</td>\n",
       "    </tr>\n",
       "    <tr>\n",
       "      <th>8</th>\n",
       "      <td>8</td>\n",
       "      <td>8.906092e+17</td>\n",
       "      <td>NaN</td>\n",
       "      <td>NaN</td>\n",
       "      <td>2017-07-27 16:25:51 +0000</td>\n",
       "      <td>&lt;a href=\"http://twitter.com/download/iphone\" r...</td>\n",
       "      <td>This is Zoey. She doesn't want to be one of th...</td>\n",
       "      <td>NaN</td>\n",
       "      <td>NaN</td>\n",
       "      <td>NaN</td>\n",
       "      <td>...</td>\n",
       "      <td>13.0</td>\n",
       "      <td>10.0</td>\n",
       "      <td>Zoey</td>\n",
       "      <td></td>\n",
       "      <td></td>\n",
       "      <td></td>\n",
       "      <td></td>\n",
       "      <td>28226.0</td>\n",
       "      <td>4429.0</td>\n",
       "      <td>NaN</td>\n",
       "    </tr>\n",
       "    <tr>\n",
       "      <th>9</th>\n",
       "      <td>9</td>\n",
       "      <td>8.902403e+17</td>\n",
       "      <td>NaN</td>\n",
       "      <td>NaN</td>\n",
       "      <td>2017-07-26 15:59:51 +0000</td>\n",
       "      <td>&lt;a href=\"http://twitter.com/download/iphone\" r...</td>\n",
       "      <td>This is Cassie. She is a college pup. Studying...</td>\n",
       "      <td>NaN</td>\n",
       "      <td>NaN</td>\n",
       "      <td>NaN</td>\n",
       "      <td>...</td>\n",
       "      <td>14.0</td>\n",
       "      <td>10.0</td>\n",
       "      <td>Cassie</td>\n",
       "      <td>doggo</td>\n",
       "      <td></td>\n",
       "      <td></td>\n",
       "      <td></td>\n",
       "      <td>32467.0</td>\n",
       "      <td>7711.0</td>\n",
       "      <td>doggo</td>\n",
       "    </tr>\n",
       "  </tbody>\n",
       "</table>\n",
       "<p>10 rows × 21 columns</p>\n",
       "</div>"
      ],
      "text/plain": [
       "   index      tweet_id  in_reply_to_status_id  in_reply_to_user_id  \\\n",
       "0      0  8.924206e+17                    NaN                  NaN   \n",
       "1      1  8.921774e+17                    NaN                  NaN   \n",
       "2      2  8.918152e+17                    NaN                  NaN   \n",
       "3      3  8.916896e+17                    NaN                  NaN   \n",
       "4      4  8.913276e+17                    NaN                  NaN   \n",
       "5      5  8.910880e+17                    NaN                  NaN   \n",
       "6      6  8.909719e+17                    NaN                  NaN   \n",
       "7      7  8.907292e+17                    NaN                  NaN   \n",
       "8      8  8.906092e+17                    NaN                  NaN   \n",
       "9      9  8.902403e+17                    NaN                  NaN   \n",
       "\n",
       "                   timestamp  \\\n",
       "0  2017-08-01 16:23:56 +0000   \n",
       "1  2017-08-01 00:17:27 +0000   \n",
       "2  2017-07-31 00:18:03 +0000   \n",
       "3  2017-07-30 15:58:51 +0000   \n",
       "4  2017-07-29 16:00:24 +0000   \n",
       "5  2017-07-29 00:08:17 +0000   \n",
       "6  2017-07-28 16:27:12 +0000   \n",
       "7  2017-07-28 00:22:40 +0000   \n",
       "8  2017-07-27 16:25:51 +0000   \n",
       "9  2017-07-26 15:59:51 +0000   \n",
       "\n",
       "                                              source  \\\n",
       "0  <a href=\"http://twitter.com/download/iphone\" r...   \n",
       "1  <a href=\"http://twitter.com/download/iphone\" r...   \n",
       "2  <a href=\"http://twitter.com/download/iphone\" r...   \n",
       "3  <a href=\"http://twitter.com/download/iphone\" r...   \n",
       "4  <a href=\"http://twitter.com/download/iphone\" r...   \n",
       "5  <a href=\"http://twitter.com/download/iphone\" r...   \n",
       "6  <a href=\"http://twitter.com/download/iphone\" r...   \n",
       "7  <a href=\"http://twitter.com/download/iphone\" r...   \n",
       "8  <a href=\"http://twitter.com/download/iphone\" r...   \n",
       "9  <a href=\"http://twitter.com/download/iphone\" r...   \n",
       "\n",
       "                                                text  retweeted_status_id  \\\n",
       "0  This is Phineas. He's a mystical boy. Only eve...                  NaN   \n",
       "1  This is Tilly. She's just checking pup on you....                  NaN   \n",
       "2  This is Archie. He is a rare Norwegian Pouncin...                  NaN   \n",
       "3  This is Darla. She commenced a snooze mid meal...                  NaN   \n",
       "4  This is Franklin. He would like you to stop ca...                  NaN   \n",
       "5  Here we have a majestic great white breaching ...                  NaN   \n",
       "6  Meet Jax. He enjoys ice cream so much he gets ...                  NaN   \n",
       "7  When you watch your owner call another dog a g...                  NaN   \n",
       "8  This is Zoey. She doesn't want to be one of th...                  NaN   \n",
       "9  This is Cassie. She is a college pup. Studying...                  NaN   \n",
       "\n",
       "   retweeted_status_user_id retweeted_status_timestamp  ...    \\\n",
       "0                       NaN                        NaN  ...     \n",
       "1                       NaN                        NaN  ...     \n",
       "2                       NaN                        NaN  ...     \n",
       "3                       NaN                        NaN  ...     \n",
       "4                       NaN                        NaN  ...     \n",
       "5                       NaN                        NaN  ...     \n",
       "6                       NaN                        NaN  ...     \n",
       "7                       NaN                        NaN  ...     \n",
       "8                       NaN                        NaN  ...     \n",
       "9                       NaN                        NaN  ...     \n",
       "\n",
       "  rating_numerator  rating_denominator      name  doggo floofer pupper puppo  \\\n",
       "0             13.0                10.0   Phineas                               \n",
       "1             13.0                10.0     Tilly                               \n",
       "2             12.0                10.0    Archie                               \n",
       "3             13.0                10.0     Darla                               \n",
       "4             12.0                10.0  Franklin                               \n",
       "5             13.0                10.0       NaN                               \n",
       "6             13.0                10.0       Jax                               \n",
       "7             13.0                10.0       NaN                               \n",
       "8             13.0                10.0      Zoey                               \n",
       "9             14.0                10.0    Cassie  doggo                        \n",
       "\n",
       "  favorite_count  retweet_count  stage  \n",
       "0        39467.0         8853.0    NaN  \n",
       "1        33819.0         6514.0    NaN  \n",
       "2        25461.0         4328.0    NaN  \n",
       "3        42908.0         8964.0    NaN  \n",
       "4        41048.0         9774.0    NaN  \n",
       "5        20562.0         3261.0    NaN  \n",
       "6        12041.0         2158.0    NaN  \n",
       "7        56848.0        16716.0    NaN  \n",
       "8        28226.0         4429.0    NaN  \n",
       "9        32467.0         7711.0  doggo  \n",
       "\n",
       "[10 rows x 21 columns]"
      ]
     },
     "execution_count": 12,
     "metadata": {},
     "output_type": "execute_result"
    }
   ],
   "source": [
    "# handle none\n",
    "merged.doggo.replace(np.nan, '', inplace=True)\n",
    "merged.floofer.replace(np.nan, '', inplace=True)\n",
    "merged.pupper.replace(np.nan, '', inplace=True)\n",
    "merged.puppo.replace(np.nan, '', inplace=True)\n",
    "\n",
    "merged['stage'] = merged.doggo + merged.floofer + merged.pupper + merged.puppo\n",
    "\n",
    "# handle multiple stages\n",
    "merged.loc[merged.stage == 'doggopupper', 'stage'] = 'doggo, pupper'\n",
    "merged.loc[merged.stage == 'doggopuppo', 'stage'] = 'doggo, puppo'\n",
    "merged.loc[merged.stage == 'doggofloofer', 'stage'] = 'doggo, floofer'\n",
    "\n",
    "# handle missing values\n",
    "merged.loc[merged.stage == '', 'stage'] = np.nan\n",
    "\n",
    "\n",
    "#test\n",
    "merged.head(10)\n",
    "\n"
   ]
  },
  {
   "cell_type": "markdown",
   "metadata": {},
   "source": [
    "#### Define (Third tidiness problem):\n",
    "- Duplicate column: expanded_urls can be extracted from tweet_id easily.\n",
    "- text column contains ratings and url which should be removed.\n",
    "\n",
    "#### Code:\n"
   ]
  },
  {
   "cell_type": "code",
   "execution_count": 13,
   "metadata": {},
   "outputs": [],
   "source": [
    "merged.drop(columns=['expanded_urls'], inplace = True)\n"
   ]
  },
  {
   "cell_type": "code",
   "execution_count": 14,
   "metadata": {},
   "outputs": [],
   "source": [
    "text = merged['text'].str.split(\"http\", n= 2, expand = True)[0]\n",
    "url_1 = 'http' + merged['text'].str.split(\"http\", n= 2, expand = True)[1]\n",
    "url_2 = 'http' + merged['text'].str.split(\"http\", n= 2, expand = True)[2]\n",
    "merged['text'] = text\n",
    "merged['photo_url_1'] =url_1\n",
    "merged['photo_url_2'] =url_2"
   ]
  },
  {
   "cell_type": "code",
   "execution_count": 15,
   "metadata": {},
   "outputs": [
    {
     "name": "stdout",
     "output_type": "stream",
     "text": [
      "<class 'pandas.core.frame.DataFrame'>\n",
      "RangeIndex: 2075 entries, 0 to 2074\n",
      "Data columns (total 22 columns):\n",
      "index                         2075 non-null int64\n",
      "tweet_id                      2075 non-null float64\n",
      "in_reply_to_status_id         23 non-null float64\n",
      "in_reply_to_user_id           23 non-null float64\n",
      "timestamp                     2075 non-null object\n",
      "source                        2075 non-null object\n",
      "text                          2075 non-null object\n",
      "retweeted_status_id           81 non-null float64\n",
      "retweeted_status_user_id      81 non-null float64\n",
      "retweeted_status_timestamp    81 non-null object\n",
      "rating_numerator              2075 non-null float64\n",
      "rating_denominator            2075 non-null float64\n",
      "name                          1497 non-null object\n",
      "doggo                         2075 non-null object\n",
      "floofer                       2075 non-null object\n",
      "pupper                        2075 non-null object\n",
      "puppo                         2075 non-null object\n",
      "favorite_count                2073 non-null float64\n",
      "retweet_count                 2073 non-null float64\n",
      "stage                         321 non-null object\n",
      "photo_url_1                   2075 non-null object\n",
      "photo_url_2                   29 non-null object\n",
      "dtypes: float64(9), int64(1), object(12)\n",
      "memory usage: 356.7+ KB\n"
     ]
    }
   ],
   "source": [
    "#test\n",
    "merged.info()"
   ]
  },
  {
   "cell_type": "markdown",
   "metadata": {},
   "source": [
    "#### Define:\n",
    "\n",
    "- Rating_denominator (always 10): redundant column (unnecessary) (Done)\n",
    "- Some columns have informations that are not valuable for us like:\n",
    "retweeted_status_id / retweeted_status_user_id / retweeted_status_timestamp / in_reply_to_status_id / in_reply_to_user_id (Done)\n",
    "\n",
    "\n",
    "#### Code:"
   ]
  },
  {
   "cell_type": "code",
   "execution_count": 16,
   "metadata": {},
   "outputs": [],
   "source": [
    "merged.drop(columns=['rating_denominator', 'retweeted_status_id', 'retweeted_status_user_id', 'retweeted_status_timestamp', 'in_reply_to_status_id', 'in_reply_to_user_id'], inplace = True)"
   ]
  },
  {
   "cell_type": "markdown",
   "metadata": {},
   "source": [
    "#### Test"
   ]
  },
  {
   "cell_type": "code",
   "execution_count": 17,
   "metadata": {},
   "outputs": [
    {
     "name": "stdout",
     "output_type": "stream",
     "text": [
      "<class 'pandas.core.frame.DataFrame'>\n",
      "RangeIndex: 2075 entries, 0 to 2074\n",
      "Data columns (total 16 columns):\n",
      "index               2075 non-null int64\n",
      "tweet_id            2075 non-null float64\n",
      "timestamp           2075 non-null object\n",
      "source              2075 non-null object\n",
      "text                2075 non-null object\n",
      "rating_numerator    2075 non-null float64\n",
      "name                1497 non-null object\n",
      "doggo               2075 non-null object\n",
      "floofer             2075 non-null object\n",
      "pupper              2075 non-null object\n",
      "puppo               2075 non-null object\n",
      "favorite_count      2073 non-null float64\n",
      "retweet_count       2073 non-null float64\n",
      "stage               321 non-null object\n",
      "photo_url_1         2075 non-null object\n",
      "photo_url_2         29 non-null object\n",
      "dtypes: float64(4), int64(1), object(11)\n",
      "memory usage: 259.5+ KB\n"
     ]
    }
   ],
   "source": [
    "merged.info()"
   ]
  },
  {
   "cell_type": "markdown",
   "metadata": {},
   "source": [
    "#### Define:\n",
    "- some invalid names like 'an', 'one', 'not', 'this', 'a','space', 'The' and 'light.\n",
    "\n",
    "#### Code :"
   ]
  },
  {
   "cell_type": "code",
   "execution_count": 18,
   "metadata": {},
   "outputs": [
    {
     "data": {
      "text/plain": [
       "(1975, 16)"
      ]
     },
     "execution_count": 18,
     "metadata": {},
     "output_type": "execute_result"
    }
   ],
   "source": [
    "merged.name.replace(np.nan, '', inplace=True)\n",
    "lower_dog_name_index = merged[merged.name.str.islower()].index\n",
    "\n",
    "merged.drop(lower_dog_name_index, inplace=True)\n",
    "merged.loc[merged.name == '', 'name'] = np.nan\n",
    "\n",
    "merged.shape"
   ]
  },
  {
   "cell_type": "markdown",
   "metadata": {},
   "source": [
    "#### Test"
   ]
  },
  {
   "cell_type": "code",
   "execution_count": 19,
   "metadata": {
    "scrolled": true
   },
   "outputs": [
    {
     "data": {
      "text/plain": [
       "Charlie      11\n",
       "Lucy         10\n",
       "Cooper       10\n",
       "Penny        10\n",
       "Oliver       10\n",
       "Tucker       10\n",
       "Winston       8\n",
       "Lola          8\n",
       "Bo            8\n",
       "Sadie         8\n",
       "Daisy         7\n",
       "Toby          7\n",
       "Koda          6\n",
       "Dave          6\n",
       "Rusty         6\n",
       "Milo          6\n",
       "Stanley       6\n",
       "Bella         6\n",
       "Jax           6\n",
       "Scout         6\n",
       "Bailey        6\n",
       "Chester       5\n",
       "Alfie         5\n",
       "Louis         5\n",
       "Oscar         5\n",
       "Larry         5\n",
       "Leo           5\n",
       "Buddy         5\n",
       "Finn          4\n",
       "Walter        4\n",
       "             ..\n",
       "Thor          1\n",
       "Blakely       1\n",
       "Chef          1\n",
       "Napolean      1\n",
       "Corey         1\n",
       "Berkeley      1\n",
       "Pupcasso      1\n",
       "Toffee        1\n",
       "Swagger       1\n",
       "Filup         1\n",
       "Mack          1\n",
       "Severus       1\n",
       "Schnozz       1\n",
       "Bobbay        1\n",
       "Grady         1\n",
       "Wiggles       1\n",
       "Blitz         1\n",
       "Travis        1\n",
       "Cheesy        1\n",
       "Akumi         1\n",
       "Harnold       1\n",
       "Fabio         1\n",
       "Mike          1\n",
       "Jebberson     1\n",
       "Bruno         1\n",
       "Fizz          1\n",
       "Suki          1\n",
       "Maisey        1\n",
       "Gordon        1\n",
       "Baron         1\n",
       "Name: name, Length: 913, dtype: int64"
      ]
     },
     "execution_count": 19,
     "metadata": {},
     "output_type": "execute_result"
    }
   ],
   "source": [
    "merged.name.value_counts()"
   ]
  },
  {
   "cell_type": "markdown",
   "metadata": {},
   "source": [
    "#### Define (Invalid Types):\n",
    "- Time stamp should be converted to datatime (merged dataframe)\n",
    "- tweet_id should be string type (merged and image dataframes)\n",
    "- Filling missing values in favorite_count, retweet_count wit zeros\n",
    "- favorite_count, retweet_count should be integer type values (merged daraframe).\n",
    "\n",
    "#### Code:\n"
   ]
  },
  {
   "cell_type": "code",
   "execution_count": 20,
   "metadata": {},
   "outputs": [],
   "source": [
    "merged['timestamp'] = pd.to_datetime(merged['timestamp'])\n",
    "merged['tweet_id'] = str(merged['tweet_id'])\n",
    "df_image['tweet_id'] = str(df_image['tweet_id'])\n",
    "merged['favorite_count'] = merged['favorite_count'].fillna(0.0).astype(int)\n",
    "merged['retweet_count'] = merged['retweet_count'].fillna(0.0).astype(int)\n"
   ]
  },
  {
   "cell_type": "code",
   "execution_count": 21,
   "metadata": {},
   "outputs": [
    {
     "name": "stdout",
     "output_type": "stream",
     "text": [
      "<class 'pandas.core.frame.DataFrame'>\n",
      "Int64Index: 1975 entries, 0 to 2074\n",
      "Data columns (total 16 columns):\n",
      "index               1975 non-null int64\n",
      "tweet_id            1975 non-null object\n",
      "timestamp           1975 non-null datetime64[ns]\n",
      "source              1975 non-null object\n",
      "text                1975 non-null object\n",
      "rating_numerator    1975 non-null float64\n",
      "name                1397 non-null object\n",
      "doggo               1975 non-null object\n",
      "floofer             1975 non-null object\n",
      "pupper              1975 non-null object\n",
      "puppo               1975 non-null object\n",
      "favorite_count      1975 non-null int64\n",
      "retweet_count       1975 non-null int64\n",
      "stage               308 non-null object\n",
      "photo_url_1         1975 non-null object\n",
      "photo_url_2         29 non-null object\n",
      "dtypes: datetime64[ns](1), float64(1), int64(3), object(11)\n",
      "memory usage: 262.3+ KB\n"
     ]
    }
   ],
   "source": [
    "#test\n",
    "merged.info()"
   ]
  },
  {
   "cell_type": "code",
   "execution_count": 22,
   "metadata": {},
   "outputs": [
    {
     "name": "stdout",
     "output_type": "stream",
     "text": [
      "<class 'pandas.core.frame.DataFrame'>\n",
      "RangeIndex: 2075 entries, 0 to 2074\n",
      "Data columns (total 12 columns):\n",
      "tweet_id    2075 non-null object\n",
      "jpg_url     2075 non-null object\n",
      "img_num     2075 non-null int64\n",
      "p1          2075 non-null object\n",
      "p1_conf     2075 non-null float64\n",
      "p1_dog      2075 non-null bool\n",
      "p2          2075 non-null object\n",
      "p2_conf     2075 non-null float64\n",
      "p2_dog      2075 non-null bool\n",
      "p3          2075 non-null object\n",
      "p3_conf     2075 non-null float64\n",
      "p3_dog      2075 non-null bool\n",
      "dtypes: bool(3), float64(3), int64(1), object(5)\n",
      "memory usage: 152.1+ KB\n"
     ]
    }
   ],
   "source": [
    "#test\n",
    "df_image.info()"
   ]
  },
  {
   "cell_type": "markdown",
   "metadata": {},
   "source": [
    "#### Define:\n",
    "- photo_url_1 and photo_url_2 should be removed as they exist in the image dataframe (Duplicate data)\n",
    "- exteact rating_numerator from text and remove rating_numerator below 10 because they are invalid\n",
    "#### Code:\n",
    "\n"
   ]
  },
  {
   "cell_type": "code",
   "execution_count": 23,
   "metadata": {},
   "outputs": [],
   "source": [
    "rating = merged.text.str.extract('((?:\\d+\\.)?\\d+)\\/(\\d+)', expand=True)\n",
    "rating.columns = ['rating_numerator', 'rating_denominator']\n"
   ]
  },
  {
   "cell_type": "code",
   "execution_count": 24,
   "metadata": {},
   "outputs": [],
   "source": [
    "merged.drop(columns=['photo_url_1', 'photo_url_2'], inplace = True)"
   ]
  },
  {
   "cell_type": "code",
   "execution_count": 25,
   "metadata": {},
   "outputs": [],
   "source": [
    "merged['rating_numerator'] = rating['rating_numerator'].astype(float)"
   ]
  },
  {
   "cell_type": "code",
   "execution_count": 26,
   "metadata": {},
   "outputs": [],
   "source": [
    "merged = merged[merged['rating_numerator'] >= 10]"
   ]
  },
  {
   "cell_type": "code",
   "execution_count": 27,
   "metadata": {},
   "outputs": [
    {
     "data": {
      "text/plain": [
       "12.00      460\n",
       "10.00      406\n",
       "11.00      397\n",
       "13.00      280\n",
       "14.00       36\n",
       "80.00        1\n",
       "13.50        1\n",
       "15.00        1\n",
       "84.00        1\n",
       "24.00        1\n",
       "50.00        1\n",
       "143.00       1\n",
       "420.00       1\n",
       "44.00        1\n",
       "144.00       1\n",
       "88.00        1\n",
       "11.26        1\n",
       "165.00       1\n",
       "11.27        1\n",
       "1776.00      1\n",
       "99.00        1\n",
       "121.00       1\n",
       "45.00        1\n",
       "Name: rating_numerator, dtype: int64"
      ]
     },
     "execution_count": 27,
     "metadata": {},
     "output_type": "execute_result"
    }
   ],
   "source": [
    "# Test\n",
    "merged.rating_numerator.value_counts()"
   ]
  },
  {
   "cell_type": "code",
   "execution_count": 28,
   "metadata": {},
   "outputs": [],
   "source": [
    "##Save the databases\n",
    "merged.to_csv('twitter_archive_master.csv')\n",
    "df_image.to_csv('image-predictions_master.csv')"
   ]
  },
  {
   "cell_type": "markdown",
   "metadata": {},
   "source": [
    "## Analysis of the data:"
   ]
  },
  {
   "cell_type": "code",
   "execution_count": 29,
   "metadata": {},
   "outputs": [
    {
     "name": "stdout",
     "output_type": "stream",
     "text": [
      "<class 'pandas.core.frame.DataFrame'>\n",
      "Int64Index: 1597 entries, 0 to 2062\n",
      "Data columns (total 14 columns):\n",
      "index               1597 non-null int64\n",
      "tweet_id            1597 non-null object\n",
      "timestamp           1597 non-null datetime64[ns]\n",
      "source              1597 non-null object\n",
      "text                1597 non-null object\n",
      "rating_numerator    1597 non-null float64\n",
      "name                1145 non-null object\n",
      "doggo               1597 non-null object\n",
      "floofer             1597 non-null object\n",
      "pupper              1597 non-null object\n",
      "puppo               1597 non-null object\n",
      "favorite_count      1597 non-null int64\n",
      "retweet_count       1597 non-null int64\n",
      "stage               265 non-null object\n",
      "dtypes: datetime64[ns](1), float64(1), int64(3), object(9)\n",
      "memory usage: 187.1+ KB\n",
      "<class 'pandas.core.frame.DataFrame'>\n",
      "RangeIndex: 2075 entries, 0 to 2074\n",
      "Data columns (total 12 columns):\n",
      "tweet_id    2075 non-null object\n",
      "jpg_url     2075 non-null object\n",
      "img_num     2075 non-null int64\n",
      "p1          2075 non-null object\n",
      "p1_conf     2075 non-null float64\n",
      "p1_dog      2075 non-null bool\n",
      "p2          2075 non-null object\n",
      "p2_conf     2075 non-null float64\n",
      "p2_dog      2075 non-null bool\n",
      "p3          2075 non-null object\n",
      "p3_conf     2075 non-null float64\n",
      "p3_dog      2075 non-null bool\n",
      "dtypes: bool(3), float64(3), int64(1), object(5)\n",
      "memory usage: 152.1+ KB\n"
     ]
    }
   ],
   "source": [
    "merged.info()\n",
    "df_image.info()"
   ]
  },
  {
   "cell_type": "markdown",
   "metadata": {},
   "source": [
    "Analysis of average rating for different stages:\n"
   ]
  },
  {
   "cell_type": "code",
   "execution_count": 36,
   "metadata": {},
   "outputs": [
    {
     "name": "stdout",
     "output_type": "stream",
     "text": [
      "{'doggo': 12.111111111111111, 'puppo': 12.173913043478262, 'pupper': 11.315523255813954, 'floofer': 11.875}\n"
     ]
    },
    {
     "name": "stderr",
     "output_type": "stream",
     "text": [
      "/opt/conda/lib/python3.6/site-packages/ipykernel_launcher.py:16: FutureWarning: 'from_array' is deprecated and will be removed in a future version. Please use the pd.Series(..) constructor instead.\n",
      "  app.launch_new_instance()\n"
     ]
    },
    {
     "data": {
      "image/png": "[encoded data removed]",
      "text/plain": [
       "<matplotlib.figure.Figure at 0x7fb38f768240>"
      ]
     },
     "metadata": {
      "needs_background": "light"
     },
     "output_type": "display_data"
    },
    {
     "name": "stdout",
     "output_type": "stream",
     "text": [
      "<class 'pandas.core.frame.DataFrame'>\n",
      "Int64Index: 1597 entries, 0 to 2062\n",
      "Data columns (total 14 columns):\n",
      "index               1597 non-null int64\n",
      "tweet_id            1597 non-null object\n",
      "timestamp           1597 non-null datetime64[ns]\n",
      "source              1597 non-null object\n",
      "text                1597 non-null object\n",
      "rating_numerator    1597 non-null float64\n",
      "name                1145 non-null object\n",
      "doggo               1597 non-null object\n",
      "floofer             1597 non-null object\n",
      "pupper              1597 non-null object\n",
      "puppo               1597 non-null object\n",
      "favorite_count      1597 non-null int64\n",
      "retweet_count       1597 non-null int64\n",
      "stage               265 non-null object\n",
      "dtypes: datetime64[ns](1), float64(1), int64(3), object(9)\n",
      "memory usage: 187.1+ KB\n"
     ]
    }
   ],
   "source": [
    "## A function that gets that averge rating for each stage.\n",
    "def average_rating(df):\n",
    "    av_rating= {}\n",
    "    stages = ['doggo', 'puppo', 'pupper', 'floofer']\n",
    "    df.stage.replace(np.nan, '', inplace=True)\n",
    "    for i in stages:\n",
    "        rating = df[df['stage'].str.contains(i)].rating_numerator.mean()\n",
    "        av_rating[i] = rating\n",
    "    df.stage.replace('', np.nan, inplace=True)\n",
    "    return av_rating\n",
    "\n",
    "rattings_per_stage = average_rating(merged)\n",
    "print(rattings_per_stage)\n",
    "\n",
    "##plotting\n",
    "freq_series = pd.Series.from_array(rattings_per_stage)\n",
    "plt.figure(figsize=(12, 8))\n",
    "fig = freq_series.plot(kind='bar')\n",
    "fig.set_ylabel('Average rating')\n",
    "plt.show()\n"
   ]
  },
  {
   "cell_type": "code",
   "execution_count": null,
   "metadata": {},
   "outputs": [],
   "source": [
    "columns = ['rating_numerator', 'favorite_count', 'retweet_count']\n",
    "scatter = pd.scatter_matrix(merged[columns], marker = 'o', s=40, hist_kwds={'bins':15}, figsize=(9,9))"
   ]
  },
  {
   "cell_type": "code",
   "execution_count": null,
   "metadata": {},
   "outputs": [],
   "source": [
    "merged.describe()"
   ]
  },
  {
   "cell_type": "code",
   "execution_count": 37,
   "metadata": {},
   "outputs": [
    {
     "name": "stdout",
     "output_type": "stream",
     "text": [
      "{'doggo': 18599.041666666668, 'puppo': 22581.434782608696, 'pupper': 7819.5348837209303, 'floofer': 13701.375}\n"
     ]
    },
    {
     "name": "stderr",
     "output_type": "stream",
     "text": [
      "/opt/conda/lib/python3.6/site-packages/ipykernel_launcher.py:17: FutureWarning: 'from_array' is deprecated and will be removed in a future version. Please use the pd.Series(..) constructor instead.\n"
     ]
    },
    {
     "data": {
      "image/png": "[encoded data removed]",
      "text/plain": [
       "<matplotlib.figure.Figure at 0x7fb38f768ba8>"
      ]
     },
     "metadata": {
      "needs_background": "light"
     },
     "output_type": "display_data"
    }
   ],
   "source": [
    "def average_likes(df):\n",
    "    av_rating= {}\n",
    "    stages = ['doggo', 'puppo', 'pupper', 'floofer']\n",
    "    df.stage.replace(np.nan, '', inplace=True)\n",
    "    for i in stages:\n",
    "        rating = df[df['stage'].str.contains(i)].favorite_count.mean()\n",
    "\n",
    "        av_rating[i] = rating\n",
    "    df.stage.replace('', np.nan, inplace=True)\n",
    "    return av_rating\n",
    "\n",
    "\n",
    "likes_per_stage = average_likes(merged)\n",
    "print(likes_per_stage)\n",
    "\n",
    "##plotting\n",
    "freq_series_2 = pd.Series.from_array(likes_per_stage)\n",
    "plt.figure(figsize=(12, 8))\n",
    "fig = freq_series_2.plot(kind='bar')\n",
    "fig.set_ylabel('Average number of likes')\n",
    "plt.show()\n"
   ]
  },
  {
   "cell_type": "code",
   "execution_count": 38,
   "metadata": {},
   "outputs": [
    {
     "name": "stdout",
     "output_type": "stream",
     "text": [
      "{'doggo': 8161.5555555555557, 'puppo': 7234.913043478261, 'pupper': 2865.8372093023254, 'floofer': 4776.75}\n"
     ]
    },
    {
     "name": "stderr",
     "output_type": "stream",
     "text": [
      "/opt/conda/lib/python3.6/site-packages/ipykernel_launcher.py:19: FutureWarning: 'from_array' is deprecated and will be removed in a future version. Please use the pd.Series(..) constructor instead.\n"
     ]
    },
    {
     "data": {
      "image/png": "[encoded data removed]",
      "text/plain": [
       "<matplotlib.figure.Figure at 0x7fb38f79ecf8>"
      ]
     },
     "metadata": {
      "needs_background": "light"
     },
     "output_type": "display_data"
    }
   ],
   "source": [
    "def average_retweets(df):\n",
    "    av_rating= {}\n",
    "    stages = ['doggo', 'puppo', 'pupper', 'floofer']\n",
    "    df.stage.replace(np.nan, '', inplace=True)\n",
    "    for i in stages:\n",
    "        rating = df[df['stage'].str.contains(i)].retweet_count.mean()\n",
    "\n",
    "        av_rating[i] = rating\n",
    "    df.stage.replace('', np.nan, inplace=True)\n",
    "    return av_rating\n",
    "\n",
    "\n",
    "\n",
    "\n",
    "retweets_per_stage = average_retweets(merged)\n",
    "print(retweets_per_stage)\n",
    "\n",
    "##plotting\n",
    "freq_series_3 = pd.Series.from_array(retweets_per_stage)\n",
    "plt.figure(figsize=(12, 8))\n",
    "fig = freq_series_3.plot(kind='bar')\n",
    "fig.set_ylabel('Average number of retweets')\n",
    "plt.show()\n"
   ]
  },
  {
   "cell_type": "code",
   "execution_count": null,
   "metadata": {},
   "outputs": [],
   "source": [
    "df_image.info()"
   ]
  },
  {
   "cell_type": "code",
   "execution_count": null,
   "metadata": {},
   "outputs": [],
   "source": [
    "df_image.p1_conf.describe()"
   ]
  },
  {
   "cell_type": "code",
   "execution_count": null,
   "metadata": {},
   "outputs": [],
   "source": [
    "df_image.p1_dog.value_counts()"
   ]
  },
  {
   "cell_type": "code",
   "execution_count": null,
   "metadata": {},
   "outputs": [],
   "source": []
  }
 ],
 "metadata": {
  "kernelspec": {
   "display_name": "Python 3",
   "language": "python",
   "name": "python3"
  },
  "language_info": {
   "codemirror_mode": {
    "name": "ipython",
    "version": 3
   },
   "file_extension": ".py",
   "mimetype": "text/x-python",
   "name": "python",
   "nbconvert_exporter": "python",
   "pygments_lexer": "ipython3",
   "version": "3.6.3"
  }
 },
 "nbformat": 4,
 "nbformat_minor": 2
}
